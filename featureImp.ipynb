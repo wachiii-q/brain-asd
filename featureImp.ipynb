{
 "cells": [
  {
   "cell_type": "code",
   "execution_count": 4,
   "id": "f28f9673",
   "metadata": {},
   "outputs": [],
   "source": [
    "from joblib import load\n",
    "\n",
    "\n",
    "bestModelPath = \"/Users/wachiii/Workschii/brain-asd/model/adult/20250513_Eyeclose_SingleFeat_balancedUnseen/bandpower/Random Forest_NoFeatureSelection/model_fold_3.pkl\"\n",
    "model = load(bestModelPath)\n",
    "\n",
    "frequency_bands = ['delta', 'theta', 'alpha', 'beta', 'gamma']\n",
    "channels = [\n",
    "    'Fp1', 'F3', 'C3', 'P3', 'O1', 'F7', 'T3', 'T5', 'Fz', 'Fp2',\n",
    "    'F4', 'C4', 'P4', 'O2', 'F8', 'T4', 'T6', 'Cz', 'Pz'\n",
    "]\n",
    "\n",
    "feature_labels = [f\"{band}_{ch}\" for band in frequency_bands for ch in channels]"
   ]
  },
  {
   "cell_type": "code",
   "execution_count": null,
   "id": "97d9668a",
   "metadata": {},
   "outputs": [],
   "source": []
  }
 ],
 "metadata": {
  "kernelspec": {
   "display_name": "base-ml",
   "language": "python",
   "name": "python3"
  },
  "language_info": {
   "codemirror_mode": {
    "name": "ipython",
    "version": 3
   },
   "file_extension": ".py",
   "mimetype": "text/x-python",
   "name": "python",
   "nbconvert_exporter": "python",
   "pygments_lexer": "ipython3",
   "version": "3.12.9"
  }
 },
 "nbformat": 4,
 "nbformat_minor": 5
}
